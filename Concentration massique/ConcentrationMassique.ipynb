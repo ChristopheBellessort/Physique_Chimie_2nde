{
 "cells": [
  {
   "cell_type": "markdown",
   "metadata": {},
   "source": [
    "# Concentration massique - Approche à l'aide de programmes en Python #"
   ]
  },
  {
   "cell_type": "markdown",
   "metadata": {},
   "source": [
    "L'objectif est de programmer en Python des fonctions permettant d'effectuer les calculs en lien avec les notions de concentration massique et de dilution.<br>\n",
    "On rappelle la relation permettant de calculer la concentration massique d'un soluté dans une solution : $C_m = \\dfrac{m}{V}$<br>\n",
    "Dans cette relation :\n",
    "- $\\mathrm{C_m}$ est la concentration massique ;\n",
    "- m est la masse de soluté dissous ;\n",
    "- V est le volume de la solution.\n",
    "**Remarque sur l'utilisation de cette ressource**\n",
    "Cette ressource contient des parties explicatives et des cellules de code qui fonctionnent comme des parties de programmes en langage Python. Pour exécuter une cellule de code, il faut la sélectionner en cliquant dedans puis utiliser la combinaison de touches **MAJ (SHIFT) + ENTRÉE**."
   ]
  },
  {
   "cell_type": "markdown",
   "metadata": {},
   "source": [
    "## Concentration massique ##\n",
    "Dans cette partie il s'agit d'exploiter la relation rappelée en introduction pour construire trois fonctions en Python permettant de : \n",
    "1. calculer la concentration massique $C_m$ connaissant la masse *m* et le volume *V* ;\n",
    "2. calculer la masse *m* de soluté connaissant la concentration massique $C_m$ et le volume *V* ;\n",
    "3. calculer le volume *V* de solution connaissant la masse *m* de soluté et la concentration massique $C_m$."
   ]
  },
  {
   "cell_type": "markdown",
   "metadata": {},
   "source": [
    "### 1. Calculer la concentration massique ###\n",
    "Les lignes de code ci-dessous définissent la fonction permettant de calculer la concentration massique à partir de la donnée des deux autres grandeurs.<br>\n",
    "D'une manière générale, lorsqu'on définit une fonction en Python, deux questions incontournables se posent :\n",
    "- quelle valeur est renvoyée par la fonction ?\n",
    "- de quels paramètres la fonction a-t-elle besoin pour fonctionner ?\n",
    "\n",
    "Dans ce premier cas de figure, la fonction doit renvoyer **la valeur de la concentration massique** en utilisant **la masse de soluté** et **le volume de la solution**.<br>\n",
    "Dans un programme Python, on utilise des **variables** pour stocker les valeurs numériques.<br>\n",
    "Les lignes de code ci-dessous construisent la fonction renvoyant la valeur de la concentration massique."
   ]
  },
  {
   "cell_type": "code",
   "execution_count": null,
   "metadata": {},
   "outputs": [],
   "source": [
    "def ConcentrationMassique(m, V) : # def permet de définir une fonction. On place entre () les arguments utilisés\n",
    "    C = m / V  # Calcul de la concentration massique\n",
    "    return C  # La fonction renvoie la valeur de C calculée à la ligne précédente"
   ]
  },
  {
   "cell_type": "markdown",
   "metadata": {},
   "source": [
    "**Utilisation**<br>\n",
    "Pour utiliser une fonction définie dans une console, il suffit de taper son nom, en respectant majuscules et minuscules, avec les valeurs numériques des paramètres entre ().<br>\n",
    "Utiliser la cellule ci-dessous pour calculer en $\\mathrm{g \\cdot L^{-1}}$ :\n",
    "1. la concentration massique d'une solution de chlorure de sodium telle que $m_{NaCl}=25{,}0\\ \\mathrm g$ et $V=0{,}250\\ \\mathrm{L}$.\n",
    "2. la concentration massique d'une solution de chlorure de potassium telle que $m_{KCl}=5{,}0\\ \\mathrm g$ et $V=300\\ \\mathrm{mL}$."
   ]
  },
  {
   "cell_type": "code",
   "execution_count": null,
   "metadata": {},
   "outputs": [],
   "source": [
    "ConcentrationMassique(25, À COMPLÉTER)"
   ]
  },
  {
   "cell_type": "markdown",
   "metadata": {},
   "source": [
    "### 2. Calculer la masse de soluté ###\n",
    "On cherche à calculer la masse de soluté dans un volume V de solution.<br>\n",
    "La valeur de la concentration massique est stockée dans la variable *C*, la valeur de la masse dans la variable *m* et la valeur du volume dans la variable *V*.\n",
    "1. Quelle valeur doit renvoyer la fonction ?\n",
    "2. Quels sont les paramètres de la fonction dans cette partie ?\n",
    "\n",
    "Compléter les lignes de code ci-dessous pour que la fonction renvoie effectivement la grandeur recherchée."
   ]
  },
  {
   "cell_type": "code",
   "execution_count": null,
   "metadata": {},
   "outputs": [],
   "source": [
    "def masseSolute(À COMPLÉTER,À COMPLÉTER) :\n",
    "    ENTRER LA RELATION MATHÉMATIQUE À UTILISER\n",
    "    return À COMPLÉTER"
   ]
  },
  {
   "cell_type": "markdown",
   "metadata": {},
   "source": [
    "**Utilisation**<br>\n",
    "Vérifiez le fonctionnement de votre fonction en calculant la masse de soluté en gramme dans les deux situations suivantes :\n",
    "1. concentration massique $C=0{,}045\\ \\mathrm{g \\cdot L^{-1}}$ et volume $V = 2{,}50\\ \\mathrm L$ ;\n",
    "2. concentration massique $C=2{,}3\\ \\mathrm{g \\cdot L^{-1}}$ et volume $V=750\\ \\mathrm{mL}$."
   ]
  },
  {
   "cell_type": "code",
   "execution_count": null,
   "metadata": {},
   "outputs": [],
   "source": [
    "masseSolute(ENTRER LA VALEUR, ENTRER LA VALEUR)"
   ]
  },
  {
   "cell_type": "markdown",
   "metadata": {},
   "source": [
    "### 3. Calculer le volume de solution ###\n",
    "On cherche à calculer le volume *V* de solution à prélever pour obtenir une masse *m* de soluté dont on connaît la concentration massique *C*.<br>\n",
    "La valeur de la concentration massique est stockée dans la variable *C*, la valeur de la masse dans la variable *m* et la valeur du volume dans la variable *V*.\n",
    "1. Quelle valeur doit renvoyer la fonction ?\n",
    "2. Quels sont les paramètres de la fonction dans cette partie ?\n",
    "\n",
    "Compléter les lignes de code ci-dessous pour que la fonction renvoie effectivement la grandeur recherchée."
   ]
  },
  {
   "cell_type": "code",
   "execution_count": null,
   "metadata": {},
   "outputs": [],
   "source": [
    "def VolumeSolution(À COMPLÉTER,À COMPLÉTER) :\n",
    "    ENTRER LA RELATION MATHÉMATIQUE À UTILISER\n",
    "    return À COMPLÉTER"
   ]
  },
  {
   "cell_type": "markdown",
   "metadata": {},
   "source": [
    "**Utilisation**<br>\n",
    "Vérifiez le fonctionnement de votre fonction en calculant le volume de solution à prélever, exprimé en litre dans les deux situations suivantes :\n",
    "1. concentration massique $C=0{,}045\\ \\mathrm{g \\cdot L^{-1}}$ et masse à prélever $m = 2{,}50\\ \\mathrm g$ ;\n",
    "2. concentration massique $C=10{,}0\\ \\mathrm{g \\cdot L^{-1}}$ et volume $m=600\\ \\mathrm{mg}$."
   ]
  },
  {
   "cell_type": "code",
   "execution_count": null,
   "metadata": {},
   "outputs": [],
   "source": [
    "VolumeSolution(ENTRER LA VALEUR,ENTRER LA VALEUR)"
   ]
  }
 ],
 "metadata": {
  "kernelspec": {
   "display_name": "Python 3",
   "language": "python",
   "name": "python3"
  },
  "language_info": {
   "codemirror_mode": {
    "name": "ipython",
    "version": 3
   },
   "file_extension": ".py",
   "mimetype": "text/x-python",
   "name": "python",
   "nbconvert_exporter": "python",
   "pygments_lexer": "ipython3",
   "version": "3.8.5"
  }
 },
 "nbformat": 4,
 "nbformat_minor": 4
}
