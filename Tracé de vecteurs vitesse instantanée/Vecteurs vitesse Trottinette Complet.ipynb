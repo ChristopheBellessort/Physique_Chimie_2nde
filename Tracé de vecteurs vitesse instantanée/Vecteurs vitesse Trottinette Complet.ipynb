{
 "cells": [
  {
   "cell_type": "markdown",
   "metadata": {},
   "source": [
    "# Tracé des vecteurs vitesse instantanée sur l'enregistrement des positions de la trottinette #"
   ]
  },
  {
   "cell_type": "markdown",
   "metadata": {},
   "source": [
    "Cette activité a pour objectif le tracé des vecteurs vitesse instantanée sur l'enregistrement des positions d'une trottinette en mouvement rectiligne accéléré à l'aide d'un programme en Python.<br>\n",
    "La chronophotographie est rappelée ci-dessous.<br>\n",
    "![Chronophotographie de la trottinette](Chrono_Trottinette.png)<br>\n",
    "La durée entre deux positions successives est $\\Delta t = 0{,}40\\ \\mathrm s$<br>\n",
    "En plaçant l'origine des positions au point M<sub>1</sub> et en tenant compte de l'échelle de l'image, on obtient les différentes abscisses du point M au cours du temps :<br>"
   ]
  },
  {
   "cell_type": "markdown",
   "metadata": {},
   "source": [
    "|Point|t (s)|x (m)|\n",
    "|:---:|:---:|:---:|\n",
    "|M<sub>1</sub>|0|0|\n",
    "|M<sub>2</sub>|0,4|1,6|\n",
    "|M<sub>3</sub>|0,8|3,8|\n",
    "|M<sub>4</sub>|1,2|6,3|\n",
    "|M<sub>5</sub>|1,6|9,2|\n",
    "|M<sub>6</sub>|2,0|12,5|"
   ]
  },
  {
   "cell_type": "markdown",
   "metadata": {},
   "source": [
    "L'activité propose la construction pas à pas du programme permettant de :\n",
    "- placer les positions du point M sur un graphique ;\n",
    "- tracer les vecteurs vitesse instantanée ;\n",
    "- tracer une échelle pour les vitesses."
   ]
  },
  {
   "cell_type": "markdown",
   "metadata": {},
   "source": [
    "Pour exécuter une cellule de code informatique Python, il suffit de cliquer sur la cellule et de presser les touches SHIFT + ENTRÉE.<br>\n",
    "![Raccourci](ShiftEntree.jpg)<br>\n",
    "Vous devrez exécuter une à une les cellules de code et en observer les effets (certaines ne renvoient rien et sont juste exécutées en mémoire)."
   ]
  },
  {
   "cell_type": "code",
   "execution_count": null,
   "metadata": {},
   "outputs": [],
   "source": [
    "import matplotlib.pyplot as plt  # Importation des instructions permettant de tracer des graphiques et des vecteurs"
   ]
  },
  {
   "cell_type": "markdown",
   "metadata": {},
   "source": [
    "## Définition des listes contenant les dates et les abscisses du point M ##\n",
    "On entre dans deux listes qu'on nomme *t* et *x* les dates et les positions du point M."
   ]
  },
  {
   "cell_type": "code",
   "execution_count": null,
   "metadata": {},
   "outputs": [],
   "source": [
    "\"\"\"En Python, les décimaux utilisent le point pour comme séparateur décimal.\n",
    "La virgule sert à séparer les éléments d'une liste\"\"\"\n",
    "t = [0, 0.4, 0.8, 1.2, 1.6, 2]  # liste contenant les dates de chaque mesure\n",
    "x = [0, 1.6, 3.8, 6.3, 9.2, 12.5]  # liste contenant les positions à chaque instant\n",
    "y = [1, 1, 1, 1, 1, 1]  # liste contenant l'ordonnée du point M, constante et prise égale à 1 m (arbitraire)"
   ]
  },
  {
   "cell_type": "markdown",
   "metadata": {},
   "source": [
    "## Tracé des positions du point M ##\n",
    "Les lignes de programme ci-dessous permettent de tracer les positions successives du point M en les repésentant par des + rouges."
   ]
  },
  {
   "cell_type": "code",
   "execution_count": null,
   "metadata": {},
   "outputs": [],
   "source": [
    "plt.plot(x, y, \"r+\", label = \"Positions successives du point M\")  # On place les positions sur le graphique\n",
    "plt.legend()  # pour afficher la légende\n",
    "plt.grid()  # affichage du quadrillage\n",
    "plt.axis(\"equal\")  # Pour avoir un repère orthonormé\n",
    "plt.xlabel(\"x (m)\")  # nom de l'axe des abscisses"
   ]
  },
  {
   "cell_type": "markdown",
   "metadata": {},
   "source": [
    "## Calcul des coordonnées des vecteurs vitesse ##"
   ]
  },
  {
   "cell_type": "markdown",
   "metadata": {},
   "source": [
    "D'après la méthode indiquée dans le livre, la valeur approchée de la vitesse au point n°2, par exemple, se calcule par : $v_2 = \\dfrac{M_2 M_3}{\\Delta t}$.<br>\n",
    "Le vecteur vitesse au point M<sub>2</sub> est donc tel que :<br>\n",
    "${\\vec v}_2 = \\begin{pmatrix} v_{2x} \\\\ v_{2y} \\end{pmatrix} = \\begin{pmatrix} v_{2} \\\\ 0 \\end{pmatrix}$ car la trajectoire est horizontale.<br>\n",
    "En généralisant pour le point n°i, on a $v_i=\\dfrac{M_iM_{i+1}}{\\Delta t}$<br>\n",
    "Les coordonnées du vecteur vitesse au point **i** sont donc :<br>\n",
    "${\\vec v}_i = \\begin{pmatrix} \\dfrac{x_{i+1} - x_i}{\\Delta t} \\\\ \\dfrac{y_{i+1} - y_i}{\\Delta t} \\end{pmatrix}$<br>\n",
    "**Dans le cas particulier de la trottinette, la cordonnée suivant (Oy) est nulle.**"
   ]
  },
  {
   "cell_type": "markdown",
   "metadata": {},
   "source": [
    "### Lignes de codes permettant le calcul de la vitesse instantanée ###\n",
    "Ci-dessous on donne les lignes de programme permettant de calculer les coordonnées du vecteur vitesse à chaque instant.<br>\n",
    "- On définit deux listes vides **vx** et **vy** ;\n",
    "- *len(t)* est une fonction qui renvoie le nombre d'éléments de la liste ;\n",
    "- la boucle *for* calcule les vitesses aux différents points **sauf le dernier, car dans ce cas, il n'y a pas de point suivant.**\n",
    "- *vx.append()* ajoute un terme à la liste vx ;\n",
    "- pour vy, on ajoute à chaque fois la valeur 0."
   ]
  },
  {
   "cell_type": "code",
   "execution_count": null,
   "metadata": {},
   "outputs": [],
   "source": [
    "vx = []  # coordonnées de la vitesse selon (Ox)\n",
    "vy = []  # coordonnées de la vitesse selon (Oy)\n",
    "for i in range(len(t) - 1) :  # len(t)-1 car on ne calcule pas pour le dernier point\n",
    "    vx.append((x[i+1] - x[i]) / 0.4)  # On traduit en ligne de commande la formule vue dans le cours pour obtenir la vitesse instantanée  \n",
    "    vy.append(0)  # vy est toujours nulle, on n'ajoute que des 0"
   ]
  },
  {
   "cell_type": "markdown",
   "metadata": {},
   "source": [
    "**Faire la même chose de manière plus synthétique**<br>\n",
    "On peut construire les deux listes vx et vy en utilisant une syntaxe plus compacte : *les listes en compréhension*."
   ]
  },
  {
   "cell_type": "code",
   "execution_count": null,
   "metadata": {},
   "outputs": [],
   "source": [
    "vx = [(x[i+1] - x[i]) / 0.4 for i in range(len(t) - 1)]\n",
    "vy = [0 for i in range(len(t) - 1)]\n",
    "print(vx)\n",
    "print(vy)"
   ]
  },
  {
   "cell_type": "markdown",
   "metadata": {},
   "source": [
    "## Tracé des vecteurs vitesse instantanée sur un graphique avec les positions du point M ##\n",
    "Il s'agit maintenant de placer ces vecteurs vitesse instantanée sur la chronophotographie.<br>\n",
    "C'est la ligne de commande *v = plt.quiver(x[:-1:], y[:-1:], vx, vy, units=\"dots\", angles = \"xy\", scale = 0.2, color = \"blue\", label = \"vecteur vitesse instantanée\")*<br>\n",
    "- v : nom du vecteur ;\n",
    "- x[:-1:] et y[:-1:] : listes des coordonnées de points de départ de chaque vecteur. **La syntaxe x[:-1:] permet de prendre en compte tous les termes, sauf le dernier (-1)** ;\n",
    "- vx et vy : listes qui contiennent les coordonnées des vecteurs vitesse aux différents points ;\n",
    "- units=\"dots\" : on n'utilise pas l'échelle du repère ;\n",
    "- scale = 0.2 : facteur d'échelle, plus la valeur est faible, plus le vecteur est long et inversement ;\n",
    "- color : choix de la couleur du tracé ;\n",
    "- label : nom du vecteur (pour la légende du graphique).<br>"
   ]
  },
  {
   "cell_type": "markdown",
   "metadata": {},
   "source": [
    "Exécuter la cellule ci-dessous pour traver les vecteurs vitesse."
   ]
  },
  {
   "cell_type": "code",
   "execution_count": null,
   "metadata": {},
   "outputs": [],
   "source": [
    "plt.plot(x, y, \"r+\", label = \"Positions successives du point M\")  # On place les positions sur le graphique\n",
    "v = plt.quiver(x[:-1:], y[:-1:], vx, vy, units=\"dots\", angles = \"xy\", scale = 0.2, color = \"blue\", label = \"vecteur vitesse instantanée\")\n",
    "plt.legend()  # pour afficher la légende\n",
    "plt.grid()  # affichage du quadrillage\n",
    "plt.axis(\"equal\")\n",
    "plt.xlabel(\"x (m)\")  # nom de l'axe des abscisses\n",
    "plt.show()  # Affichage du graphique"
   ]
  },
  {
   "cell_type": "markdown",
   "metadata": {},
   "source": [
    "### Ajout d'un vecteur pour indiquer l'échelle de représentation ###\n",
    "Pour ajouter un vecteur sur le graphique qui donne l'échelle de représentation, on utilise la commande *plt.quiverkey(v, 0.15, 0.9, 5, coordinates = \"axes\", label = \"5 m/s\")*\n",
    "- v : champ de vecteurs dont on veut tracer l'échelle ;\n",
    "- *0.9, 0.85 associé à coordinates = \"axes\"* : position du vecteur échelle par rapport aux axes 0, 0 pour le bord inférieur gauche, 1, 1 pour le bord supérieur droit ;\n",
    "- 5 : norme du vecteur échelle ;\n",
    "- label : légende de ce vecteur sous forme de chaîne de caractères.<br>"
   ]
  },
  {
   "cell_type": "markdown",
   "metadata": {},
   "source": [
    "Exécuter la cellule ci-dessous pour avoir la représentation complète des vecteurs vitesse instantanée et l'échelle."
   ]
  },
  {
   "cell_type": "code",
   "execution_count": null,
   "metadata": {},
   "outputs": [],
   "source": [
    "plt.plot(x, y, \"r+\", label = \"Positions successives du point M\")  # On place les positions sur le graphique\n",
    "v = plt.quiver(x[:-1:], y[:-1:], vx, vy, units=\"dots\", angles = \"xy\", scale = 0.2, color = \"blue\", label = \"vecteur vitesse instantanée\")\n",
    "plt.quiverkey(v, 0.15, 0.9, 5, coordinates = \"axes\", label = \"5 m/s\")\n",
    "plt.legend()  # pour afficher la légende\n",
    "plt.grid()  # affichage du quadrillage\n",
    "plt.xlabel(\"x (m)\")  # nom de l'axe des abscisses\n",
    "plt.show()  # Affichage du graphique"
   ]
  },
  {
   "cell_type": "markdown",
   "metadata": {},
   "source": [
    "# Application au lob au tennis - Exercice n°21 page 171 #"
   ]
  },
  {
   "cell_type": "markdown",
   "metadata": {},
   "source": [
    "On se propose d'adapter les lignes de commande précédentes pour obtenir le tracé des vecteurs vitesse instantanée sur la chronophotographie d'une balle de tennis lors d'un lob.<br>\n",
    "![Chronophotographie de la balle](Chrono_Balle.png)<br>\n",
    "La durée entre deux positions successives est $\\Delta t=100\\ \\mathrm{ms}$<br>\n",
    "On a relevé les coordonnées du centre de la balle dans un repère orthonormé dont l'axe des abscisses est horizontal."
   ]
  },
  {
   "cell_type": "markdown",
   "metadata": {},
   "source": [
    "|Point|t (s)|x (m)|y (m)|\n",
    "|:---:|:---:|:---:|:---:|\n",
    "|1|0|1,125|0,225|\n",
    "|2|0,1|1,395|0,90|\n",
    "|3|0,2|1,665|1,485|\n",
    "|4|0,3|2,025|1,98|\n",
    "|5|0,4|2,295|2,43|\n",
    "|6|0,5|2,61|2,79|\n",
    "|7|0,6|2,925|3,015|\n",
    "|8|0,7|3,24|3,24|\n",
    "|9|0,8|3,555|3,33|\n",
    "|10|0,9|3,87|3,33|\n",
    "|11|1,0|4,14|3,285|\n",
    "|12|1,1|4,455|3,15|\n",
    "|13|1,2|4,77|2,97|\n",
    "|14|1,3|5,04|2,655|\n",
    "|15|1,4|5,4|2,295|\n",
    "|16|1,5|5,715|1,8|\n",
    "|17|1,6|5,985|1,305|\n",
    "|18|1,7|6,3|0,72|"
   ]
  },
  {
   "cell_type": "markdown",
   "metadata": {},
   "source": [
    "Adapter les lignes de code ci-dessous, puis exécutez-les de façon à tracer les positions de la balle de tennis dans le repère et les vecteurs vitesse instantanée à chaque position."
   ]
  },
  {
   "cell_type": "code",
   "execution_count": null,
   "metadata": {},
   "outputs": [],
   "source": [
    "import matplotlib.pyplot as plt  # Importation des instructions permettant de tracer des graphiques et des vecteurs\n",
    "\"\"\"En Python, les décimaux utilisent le point pour comme séparateur décimal.\n",
    "La virgule sert à séparer les éléments d'une liste\"\"\"\n",
    "t = [0, 0.1, 0.2, 0.3, 0.4, 0.5, 0.6, 0.7, 0.8, 0.9, 1., 1.1, 1.2, 1.3, 1.4, 1.5, 1.6, 1.7]  # liste contenant les dates de chaque mesure\n",
    "x = [1.125, 1.395, 1.665, 2.025, 2.295, 2.61, 2.925, 3.24, 3.555, 3.87, 4.14, 4.455, 4.77, 5.04, 5.4, 5.715, 5.985, 6.3]  # liste contenant l'abscisse de la balle à chaque instant À COMPLÉTER À PARTIR DU TABLEAU PRÉCÉDENT\n",
    "y = [0.225, 0.90, 1.485, 1.98, 2.43, 2.79, 3.015, 3.24, 3.33, 3.33, 3.285, 3.15, 2.97, 2.655, 2.295, 1.8, 1.305, 0.72]  # liste contenant l'ordonnée de la balle à chaque instant À COMPLÉTER À PARTIR DU TABLEAU PRÉCÉDENT\n",
    "\n",
    "\"\"\"Calcul des coordonnées du vecteur vitesse instantanée\"\"\"\n",
    "vx = []  # coordonnées de la vitesse selon (Ox)\n",
    "vy = []  # coordonnées de la vitesse selon (Oy)\n",
    "for i in range(len(t) - 1) :  # len(t)-1 car on ne calcule pas pour le dernier point\n",
    "    vx.append((x[i+1] - x[i]) / 0.1)  # On traduit en ligne de commande la formule vue dans le cours pour obtenir la vitesse instantanée  \n",
    "    vy.append((y[i+1] - y[i]) / 0.1)  # idem pour la coordonnée suivant (Oy)\n",
    "\n",
    "\n",
    "\"\"\"Tracé du graphique avec les positions de la balle et les vecteurs vitesse instantanée\n",
    "Vous devrez probablement adapter la valeur du paramètre scale dans la ligne plt.quiver(), ainsi que la valeur 5 dans la ligne plt.quiverkey() (pour 5 m/s)\"\"\"\n",
    "\n",
    "plt.plot(x, y, \"r+\", label = \"Positions successives du point M\")  # On place les positions sur le graphique\n",
    "v = plt.quiver(x[:-1:], y[:-1:], vx, vy, units=\"dots\", angles = \"xy\", scale = 0.2, color = \"blue\", label = \"vecteur vitesse instantanée\")\n",
    "plt.quiverkey(v, 0.1, 0.9, 5, coordinates = \"axes\", label = \"5 m/s\")\n",
    "plt.legend()  # pour afficher la légende\n",
    "plt.grid()  # affichage du quadrillage\n",
    "plt.xlabel(\"x (m)\")  # nom de l'axe des abscisses\n",
    "plt.ylabel(\"y (m)\")  # nom de l'axe des ordonnées\n",
    "plt.show()  # Affichage du graphique"
   ]
  },
  {
   "cell_type": "code",
   "execution_count": null,
   "metadata": {},
   "outputs": [],
   "source": []
  }
 ],
 "metadata": {
  "kernelspec": {
   "display_name": "Python 3",
   "language": "python",
   "name": "python3"
  },
  "language_info": {
   "codemirror_mode": {
    "name": "ipython",
    "version": 3
   },
   "file_extension": ".py",
   "mimetype": "text/x-python",
   "name": "python",
   "nbconvert_exporter": "python",
   "pygments_lexer": "ipython3",
   "version": "3.8.5"
  }
 },
 "nbformat": 4,
 "nbformat_minor": 4
}
