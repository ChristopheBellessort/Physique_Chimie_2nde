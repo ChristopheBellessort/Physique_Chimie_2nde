{
 "cells": [
  {
   "cell_type": "markdown",
   "metadata": {},
   "source": [
    "# Tracer des vecteurs avec Python #"
   ]
  },
  {
   "cell_type": "markdown",
   "metadata": {},
   "source": [
    "On aborde uniquement dans cette fiche la syntaxe permettant de tracer des vecteurs sur une figure.</br>\n",
    "Son utilisation dans une activité pédagogique fait l'objet d'une activité dans un autre module."
   ]
  },
  {
   "cell_type": "code",
   "execution_count": 3,
   "metadata": {},
   "outputs": [],
   "source": [
    "# Importation des bibliothèques\n",
    "import matplotlib.pyplot as plt\n",
    "%matplotlib inline\n",
    "import numpy as np"
   ]
  },
  {
   "cell_type": "markdown",
   "metadata": {},
   "source": [
    "Deux fonctions sont susceptibles de tracer des vecteurs :\n",
    "* plt.arrow [Documentation](https://matplotlib.org/3.1.1/api/_as_gen/matplotlib.pyplot.arrow.html)\n",
    "* plt.quiver [Documentation](https://matplotlib.org/3.1.1/api/_as_gen/matplotlib.pyplot.quiver.html)\n",
    "On fait le choix dans cette activité de présenter plt.quiver() plutôt que plt.arrow()."
   ]
  },
  {
   "cell_type": "markdown",
   "metadata": {},
   "source": [
    "## Tracé d'un vecteur - Syntaxe de base ##"
   ]
  },
  {
   "cell_type": "markdown",
   "metadata": {},
   "source": [
    "Les commandes ci-dessous permettent de tracer un vecteur uniquedans un repère orthonormé."
   ]
  },
  {
   "cell_type": "code",
   "execution_count": null,
   "metadata": {},
   "outputs": [],
   "source": [
    "# Les trois lignes qui suivent permettent d'avoir un repère orthonormé.\n",
    "# On place deux points qu'on n'affiche pas afin de délimiter l'étendue des axes\n",
    "plt.plot(-5, -5, \"None\")\n",
    "plt.plot(5, 5, \"None\")\n",
    "plt.axis('equal')  # Trace un repère orthonormé\n",
    "plt.quiver(0, 0, 4, 2, angles = 'xy', scale_units = 'xy', scale = 1)  # Tracé d'un vecteur\n",
    "plt.show()  # On affiche la fenêtre graphique"
   ]
  },
  {
   "cell_type": "markdown",
   "metadata": {},
   "source": [
    "### Décryptage de la ligne plt.quiver() ###"
   ]
  },
  {
   "cell_type": "markdown",
   "metadata": {},
   "source": [
    "* 0, 0 : coordonnées de l'origine du vecteur ;\n",
    "* 4, 2 : coordonnées du vecteur (4,2) ;\n",
    "* angles = 'xy' : indique qu'on travaille en coordonnées cartésiennes ;\n",
    "* scale_units = 'xy' : échelle basée sur celle des axes des abscisses et ordonnées ;\n",
    "* scale = 1 : échelle du tracé, 1 pour taille réelle, 0.5 pour un facteur 2, 2 pour une distance divisée par 2, etc...\n",
    "Vous pouvez tester la modification de quelques paramètres dans la cellule de code précédente pour constater leur influence l'aspect de la figure."
   ]
  },
  {
   "cell_type": "code",
   "execution_count": 2,
   "metadata": {},
   "outputs": [
    {
     "ename": "NameError",
     "evalue": "name 'plt' is not defined",
     "output_type": "error",
     "traceback": [
      "\u001b[0;31m---------------------------------------------------------------------------\u001b[0m",
      "\u001b[0;31mNameError\u001b[0m                                 Traceback (most recent call last)",
      "\u001b[0;32m<ipython-input-2-b4ae09fa833e>\u001b[0m in \u001b[0;36m<module>\u001b[0;34m\u001b[0m\n\u001b[1;32m      1\u001b[0m \u001b[0;31m# Les trois lignes qui suivent permettent d'avoir un repère orthonormé.\u001b[0m\u001b[0;34m\u001b[0m\u001b[0;34m\u001b[0m\u001b[0;34m\u001b[0m\u001b[0m\n\u001b[1;32m      2\u001b[0m \u001b[0;31m# On place deux points qu'on n'affiche pas afin de délimiter l'étendue des axes\u001b[0m\u001b[0;34m\u001b[0m\u001b[0;34m\u001b[0m\u001b[0;34m\u001b[0m\u001b[0m\n\u001b[0;32m----> 3\u001b[0;31m \u001b[0mplt\u001b[0m\u001b[0;34m.\u001b[0m\u001b[0mclf\u001b[0m\u001b[0;34m(\u001b[0m\u001b[0;34m)\u001b[0m\u001b[0;34m\u001b[0m\u001b[0;34m\u001b[0m\u001b[0m\n\u001b[0m\u001b[1;32m      4\u001b[0m \u001b[0mplt\u001b[0m\u001b[0;34m.\u001b[0m\u001b[0mplot\u001b[0m\u001b[0;34m(\u001b[0m\u001b[0;34m-\u001b[0m\u001b[0;36m5\u001b[0m\u001b[0;34m,\u001b[0m \u001b[0;34m-\u001b[0m\u001b[0;36m5\u001b[0m\u001b[0;34m,\u001b[0m \u001b[0;34m\"None\"\u001b[0m\u001b[0;34m)\u001b[0m\u001b[0;34m\u001b[0m\u001b[0;34m\u001b[0m\u001b[0m\n\u001b[1;32m      5\u001b[0m \u001b[0mplt\u001b[0m\u001b[0;34m.\u001b[0m\u001b[0mplot\u001b[0m\u001b[0;34m(\u001b[0m\u001b[0;36m5\u001b[0m\u001b[0;34m,\u001b[0m \u001b[0;36m5\u001b[0m\u001b[0;34m,\u001b[0m \u001b[0;34m\"None\"\u001b[0m\u001b[0;34m)\u001b[0m\u001b[0;34m\u001b[0m\u001b[0;34m\u001b[0m\u001b[0m\n",
      "\u001b[0;31mNameError\u001b[0m: name 'plt' is not defined"
     ]
    }
   ],
   "source": [
    "# Les trois lignes qui suivent permettent d'avoir un repère orthonormé.\n",
    "# On place deux points qu'on n'affiche pas afin de délimiter l'étendue des axes\n",
    "plt.clf()\n",
    "plt.plot(-5, -5, \"None\")\n",
    "plt.plot(5, 5, \"None\")\n",
    "plt.axis('equal')  # Trace un repère orthonormé\n",
    "plt.quiver(0, 0, 4, 2, angles = 'xy', units = 'dots', scale_units = 'xy', scale = 1)  # Tracé d'un vecteur\n",
    "vecEchelle = plt.quiver(-6, 4, 1, 0, \"None\")\n",
    "plt.quiverkey(vecEchelle, 1, 4, 1, label = '2 m/s', coordinates = 'data')\n",
    "plt.show()"
   ]
  },
  {
   "cell_type": "code",
   "execution_count": null,
   "metadata": {},
   "outputs": [],
   "source": []
  }
 ],
 "metadata": {
  "kernelspec": {
   "display_name": "Python 3",
   "language": "python",
   "name": "python3"
  },
  "language_info": {
   "codemirror_mode": {
    "name": "ipython",
    "version": 3
   },
   "file_extension": ".py",
   "mimetype": "text/x-python",
   "name": "python",
   "nbconvert_exporter": "python",
   "pygments_lexer": "ipython3",
   "version": "3.6.9"
  }
 },
 "nbformat": 4,
 "nbformat_minor": 4
}
